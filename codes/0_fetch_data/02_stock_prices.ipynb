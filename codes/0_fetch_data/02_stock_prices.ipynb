{
 "cells": [
  {
   "cell_type": "code",
   "execution_count": 5,
   "metadata": {},
   "outputs": [],
   "source": [
    "import finpy_tse as fpy\n",
    "import sqlite3\n",
    "import pandas as pd\n",
    "import time\n",
    "\n",
    "import warnings\n",
    "warnings.filterwarnings('ignore')"
   ]
  },
  {
   "cell_type": "code",
   "execution_count": 6,
   "metadata": {},
   "outputs": [],
   "source": [
    "cnx = sqlite3.connect('./stocks.db')"
   ]
  },
  {
   "cell_type": "code",
   "execution_count": 7,
   "metadata": {},
   "outputs": [],
   "source": [
    "all_stock_list = pd.read_sql_query(\"SELECT Ticker FROM stock_list\", cnx).Ticker.tolist()"
   ]
  },
  {
   "cell_type": "code",
   "execution_count": 8,
   "metadata": {},
   "outputs": [],
   "source": [
    "try:\n",
    "    done_stock_list = pd.read_sql_query(\"SELECT Ticker FROM stock_prices\", cnx).Ticker.tolist()\n",
    "except:\n",
    "    done_stock_list = []"
   ]
  },
  {
   "cell_type": "code",
   "execution_count": 9,
   "metadata": {},
   "outputs": [],
   "source": [
    "todo_stock_list = list(set(all_stock_list) - set(done_stock_list))"
   ]
  },
  {
   "cell_type": "code",
   "execution_count": 11,
   "metadata": {},
   "outputs": [
    {
     "name": "stdout",
     "output_type": "stream",
     "text": [
      "719\n",
      "1, 2, 3, 4, 5, 6, 7, 8, 9, 10, 11, 12, 13, 14, 15, 16, 17, 18, 19, 20, "
     ]
    }
   ],
   "source": [
    "print(len(todo_stock_list))\n",
    "for i in range(0, len(todo_stock_list[:20])):\n",
    "    df = fpy.Get_Price_History(\n",
    "                stock=todo_stock_list[i],\n",
    "                start_date='1350-01-01',\n",
    "                end_date='1402-01-01',\n",
    "                ignore_date=False,\n",
    "                adjust_price=True,\n",
    "                show_weekday=False,\n",
    "                double_date=True)\n",
    "    time.sleep(5)\n",
    "\n",
    "    df = df[['Date', 'Volume', 'Value', 'No', 'Ticker', 'Adj Open', 'Adj High', 'Adj Low', 'Adj Close', 'Adj Final']]\n",
    "    df.to_sql('stock_prices', cnx, if_exists='append')\n",
    "\n",
    "    print(i+1, end=', ')"
   ]
  },
  {
   "cell_type": "code",
   "execution_count": 13,
   "metadata": {},
   "outputs": [],
   "source": [
    "cnx.close()"
   ]
  },
  {
   "cell_type": "code",
   "execution_count": null,
   "metadata": {},
   "outputs": [],
   "source": []
  }
 ],
 "metadata": {
  "kernelspec": {
   "display_name": "Python 3.9.14 64-bit",
   "language": "python",
   "name": "python3"
  },
  "language_info": {
   "codemirror_mode": {
    "name": "ipython",
    "version": 3
   },
   "file_extension": ".py",
   "mimetype": "text/x-python",
   "name": "python",
   "nbconvert_exporter": "python",
   "pygments_lexer": "ipython3",
   "version": "3.9.14"
  },
  "orig_nbformat": 4,
  "vscode": {
   "interpreter": {
    "hash": "a665b5d41d17b532ea9890333293a1b812fa0b73c9c25c950b3cedf1bebd0438"
   }
  }
 },
 "nbformat": 4,
 "nbformat_minor": 2
}
